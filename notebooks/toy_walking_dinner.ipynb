{
 "cells": [
  {
   "cell_type": "markdown",
   "metadata": {},
   "source": [
    "# Walking Dinner Optimization Problem\n",
    "\n",
    "A Walking Dinner is an event where two-person teams have starter, main dish and dessert at different locations in a city. Each team is hosting one course so that three teams meet for a course. The problem is to find the optimal team to team assignment for each course so that the way from course to the next is minimal but with several constraints.\n",
    "\n",
    "The constraints are:\n",
    "* no two teams should meet for more than one course\n",
    "* every team hosts exactly one course\n",
    "* teams located at the same address should meet\n",
    "\n",
    "## Toy example\n",
    "\n",
    "Let's create an example data set for this problem."
   ]
  },
  {
   "cell_type": "code",
   "execution_count": 1,
   "metadata": {},
   "outputs": [],
   "source": [
    "import numpy as np\n",
    "from scipy.spatial import distance_matrix\n",
    "import itertools"
   ]
  },
  {
   "cell_type": "markdown",
   "metadata": {},
   "source": [
    "The number of teams should be a multiple since three teams meet for a course."
   ]
  },
  {
   "cell_type": "code",
   "execution_count": 2,
   "metadata": {},
   "outputs": [],
   "source": [
    "n_teams = 9"
   ]
  },
  {
   "cell_type": "markdown",
   "metadata": {},
   "source": [
    "The coordinate for each team is drawn from a distribution."
   ]
  },
  {
   "cell_type": "code",
   "execution_count": 3,
   "metadata": {},
   "outputs": [
    {
     "data": {
      "text/plain": [
       "array([[ 5.8315653 , -2.07377013],\n",
       "       [-8.43310776,  6.1047169 ],\n",
       "       [-7.00695643,  2.16143881],\n",
       "       [ 9.75944858,  2.04735725],\n",
       "       [-5.58046728, -8.66195238]])"
      ]
     },
     "execution_count": 3,
     "metadata": {},
     "output_type": "execute_result"
    }
   ],
   "source": [
    "x_coord = np.random.uniform(-10,10, n_teams)\n",
    "y_coord = np.random.uniform(-10,10, n_teams)\n",
    "team_locs = np.array([x_coord, y_coord]).T\n",
    "team_locs[:5]"
   ]
  },
  {
   "cell_type": "markdown",
   "metadata": {},
   "source": [
    "We calculate the pairwise distances between each team."
   ]
  },
  {
   "cell_type": "code",
   "execution_count": 4,
   "metadata": {},
   "outputs": [
    {
     "data": {
      "text/plain": [
       "array([[0.        , 4.05498304, 3.67682569, 2.38603229, 3.6300415 ],\n",
       "       [4.05498304, 0.        , 2.04774278, 4.3173497 , 3.87810308],\n",
       "       [3.67682569, 2.04774278, 0.        , 4.09472748, 3.30408685],\n",
       "       [2.38603229, 4.3173497 , 4.09472748, 0.        , 4.32531493],\n",
       "       [3.6300415 , 3.87810308, 3.30408685, 4.32531493, 0.        ]])"
      ]
     },
     "execution_count": 4,
     "metadata": {},
     "output_type": "execute_result"
    }
   ],
   "source": [
    "team_dist_matrix = np.sqrt(distance_matrix(team_locs, team_locs))\n",
    "team_dist_matrix[:5, :5]"
   ]
  },
  {
   "cell_type": "markdown",
   "metadata": {},
   "source": [
    "We calculate the distance for every team between the three dishes"
   ]
  },
  {
   "cell_type": "code",
   "execution_count": 5,
   "metadata": {},
   "outputs": [],
   "source": [
    "def assign_teams_to_course(n_teams):\n",
    "    \"\"\"Assign course to teams, so that the number of teams per course are equal\n",
    "    \n",
    "    Returns\n",
    "    -------\n",
    "    teams_per_course: np.array\n",
    "        Array of shape (n_courses, n_teams_per_course)\n",
    "    \"\"\"\n",
    "    teams = set(range(n_teams))\n",
    "    n_teams_per_course = n_teams // 3\n",
    "    n_courses = 3\n",
    "    teams_per_course = []\n",
    "    for course in range(n_courses):\n",
    "        teams_in_course = np.random.choice(list(teams), size=n_teams_per_course, replace=False)\n",
    "        teams.difference_update(teams_in_course)\n",
    "        teams_per_course.append(teams_in_course)\n",
    "    return np.array(teams_per_course)"
   ]
  },
  {
   "cell_type": "code",
   "execution_count": 6,
   "metadata": {},
   "outputs": [
    {
     "data": {
      "text/plain": [
       "array([[5, 7, 2],\n",
       "       [0, 8, 3],\n",
       "       [6, 4, 1]])"
      ]
     },
     "execution_count": 6,
     "metadata": {},
     "output_type": "execute_result"
    }
   ],
   "source": [
    "host_teams = assign_teams_to_course(n_teams)\n",
    "host_teams"
   ]
  },
  {
   "cell_type": "code",
   "execution_count": 37,
   "metadata": {},
   "outputs": [],
   "source": [
    "def create_random_distinct_triplets_with_host(n_teams, host_teams_for_course, not_allowed_match_for_teams=None):\n",
    "    triplets = []\n",
    "    guest_teams_pool = set(range(n_teams))\n",
    "    guest_teams_pool.difference_update(host_teams_for_course)\n",
    "    if not_allowed_match_for_teams is None:\n",
    "        not_allowed_match_for_teams = [set() for _ in range(n_teams)]\n",
    "        \n",
    "    for host_team in host_teams_for_course:\n",
    "        print(f\"host_team: {host_team}\")\n",
    "        guest_teams = set()\n",
    "        \n",
    "        allowed_teams = guest_teams_pool.difference(not_allowed_match_for_teams[host_team])\n",
    "        print(f\"allowed_teams: {allowed_teams}\")\n",
    "        for i in range(100):\n",
    "            guest_team = np.random.choice(list(allowed_teams), size=1)[0]\n",
    "            print(f\"test guest_team: {guest_team}\")\n",
    "            \n",
    "            test_allowed_teams = allowed_teams.difference(not_allowed_match_for_teams[guest_team]).difference([guest_team])\n",
    "            if len(test_allowed_teams) < 2-len(guest_teams)-1:\n",
    "                print(f\"host_team: {host_team}\")\n",
    "                print(f\"test_allowed_teams: {test_allowed_teams}\")\n",
    "                print(f\"not_allowed_match_for_teams[host_team]: {not_allowed_match_for_teams[host_team]}\")\n",
    "                print(f\"guest_teams_pool: {guest_teams_pool}\")\n",
    "                print(f\"triplets: {triplets}\")\n",
    "                print(f\"discarding guest team {guest_team}\")\n",
    "                allowed_teams.remove(guest_team)\n",
    "                if len(allowed_teams)==0:\n",
    "                    print(f\"host_team: {host_team}\")\n",
    "                    print(f\"allowed_teams: {allowed_teams}\")\n",
    "                    print(f\"not_allowed_match_for_teams[host_team]: {not_allowed_match_for_teams[host_team]}\")\n",
    "                    print(f\"guest_teams_pool: {guest_teams_pool}\")\n",
    "                    print(f\"triplets: {triplets}\")\n",
    "                    raise ValueError(f'Found no combination after {i} iterations')\n",
    "                continue\n",
    "            print(f\"guest_team: {guest_team}\")\n",
    "            allowed_teams = test_allowed_teams\n",
    "            guest_teams.add(guest_team)\n",
    "            if len(guest_teams)==2:\n",
    "                break\n",
    "\n",
    "            if i==99:\n",
    "                print(f\"host_team: {host_team}\")\n",
    "                print(f\"allowed_teams: {allowed_teams}\")\n",
    "                print(f\"not_allowed_match_for_teams[host_team]: {not_allowed_match_for_teams[host_team]}\")\n",
    "                print(f\"guest_teams_pool: {guest_teams_pool}\")\n",
    "                print(f\"triplets: {triplets}\")\n",
    "                raise ValueError(f'Found no combination after {i} iterations')\n",
    "        triplet = {host_team}\n",
    "        triplet.update(guest_teams)\n",
    "        guest_teams_pool.difference_update(triplet)\n",
    "        for first_team_in_perm, second_team_in_perm in itertools.permutations(triplet, 2):\n",
    "            not_allowed_match_for_teams[first_team_in_perm].add(second_team_in_perm)\n",
    "        triplets.append(triplet)\n",
    "\n",
    "    return triplets, not_allowed_match_for_teams"
   ]
  },
  {
   "cell_type": "code",
   "execution_count": 48,
   "metadata": {},
   "outputs": [
    {
     "name": "stdout",
     "output_type": "stream",
     "text": [
      "host_team: 5\n",
      "allowed_teams: {0, 1, 3, 4, 6, 8}\n",
      "test guest_team: 1\n",
      "guest_team: 1\n",
      "test guest_team: 0\n",
      "guest_team: 0\n",
      "host_team: 7\n",
      "allowed_teams: {8, 3, 4, 6}\n",
      "test guest_team: 4\n",
      "guest_team: 4\n",
      "test guest_team: 8\n",
      "guest_team: 8\n",
      "host_team: 2\n",
      "allowed_teams: {3, 6}\n",
      "test guest_team: 6\n",
      "guest_team: 6\n",
      "test guest_team: 3\n",
      "guest_team: 3\n",
      "triplets_starters: [{0, 1, 5}, {8, 4, 7}, {2, 3, 6}]\n",
      "hosts_starter: [5 7 2]\n",
      "not_allowed_match_for_teams: [{1, 5}, {0, 5}, {3, 6}, {2, 6}, {8, 7}, {0, 1}, {2, 3}, {8, 4}, {4, 7}]\n",
      "host_team: 0\n",
      "allowed_teams: {2, 4, 6, 7}\n",
      "test guest_team: 7\n",
      "guest_team: 7\n",
      "test guest_team: 2\n",
      "guest_team: 2\n",
      "host_team: 8\n",
      "allowed_teams: {1, 5, 6}\n",
      "test guest_team: 6\n",
      "guest_team: 6\n",
      "test guest_team: 1\n",
      "guest_team: 1\n",
      "host_team: 3\n",
      "allowed_teams: {4, 5}\n",
      "test guest_team: 4\n",
      "guest_team: 4\n",
      "test guest_team: 5\n",
      "guest_team: 5\n",
      "triplets_main: [{0, 2, 7}, {8, 1, 6}, {3, 4, 5}]\n",
      "hosts_main: [0 8 3]\n",
      "not_allowed_match_for_teams: [{1, 2, 5, 7}, {0, 8, 5, 6}, {0, 3, 6, 7}, {2, 4, 5, 6}, {8, 3, 5, 7}, {0, 1, 3, 4}, {8, 1, 2, 3}, {8, 0, 2, 4}, {1, 4, 6, 7}]\n",
      "host_team: 6\n",
      "allowed_teams: {0, 5, 7}\n",
      "test guest_team: 7\n",
      "guest_team: 7\n",
      "test guest_team: 5\n",
      "guest_team: 5\n",
      "host_team: 4\n",
      "allowed_teams: {0, 2}\n",
      "test guest_team: 2\n",
      "host_team: 4\n",
      "test_allowed_teams: set()\n",
      "not_allowed_match_for_teams[host_team]: {8, 3, 5, 7}\n",
      "guest_teams_pool: {0, 2, 3, 8}\n",
      "triplets: [{5, 6, 7}]\n",
      "discarding guest team 2\n",
      "test guest_team: 0\n",
      "host_team: 4\n",
      "test_allowed_teams: set()\n",
      "not_allowed_match_for_teams[host_team]: {8, 3, 5, 7}\n",
      "guest_teams_pool: {0, 2, 3, 8}\n",
      "triplets: [{5, 6, 7}]\n",
      "discarding guest team 0\n",
      "host_team: 4\n",
      "allowed_teams: set()\n",
      "not_allowed_match_for_teams[host_team]: {8, 3, 5, 7}\n",
      "guest_teams_pool: {0, 2, 3, 8}\n",
      "triplets: [{5, 6, 7}]\n"
     ]
    },
    {
     "ename": "ValueError",
     "evalue": "Found no combination after 1 iterations",
     "output_type": "error",
     "traceback": [
      "\u001b[0;31m---------------------------------------------------------------------------\u001b[0m",
      "\u001b[0;31mValueError\u001b[0m                                Traceback (most recent call last)",
      "Cell \u001b[0;32mIn[48], line 11\u001b[0m\n\u001b[1;32m      8\u001b[0m \u001b[38;5;28mprint\u001b[39m(\u001b[38;5;124mf\u001b[39m\u001b[38;5;124m\"\u001b[39m\u001b[38;5;124mhosts_main: \u001b[39m\u001b[38;5;132;01m{\u001b[39;00mhost_teams[\u001b[38;5;241m1\u001b[39m]\u001b[38;5;132;01m}\u001b[39;00m\u001b[38;5;124m\"\u001b[39m)\n\u001b[1;32m      9\u001b[0m \u001b[38;5;28mprint\u001b[39m(\u001b[38;5;124mf\u001b[39m\u001b[38;5;124m\"\u001b[39m\u001b[38;5;124mnot_allowed_match_for_teams: \u001b[39m\u001b[38;5;132;01m{\u001b[39;00mnot_allowed_match_for_teams\u001b[38;5;132;01m}\u001b[39;00m\u001b[38;5;124m\"\u001b[39m)\n\u001b[0;32m---> 11\u001b[0m triplets_dessert, not_allowed_match_for_teams \u001b[38;5;241m=\u001b[39m create_random_distinct_triplets_with_host(n_teams, host_teams[\u001b[38;5;241m2\u001b[39m], not_allowed_match_for_teams)\n\u001b[1;32m     12\u001b[0m \u001b[38;5;28mprint\u001b[39m(\u001b[38;5;124mf\u001b[39m\u001b[38;5;124m\"\u001b[39m\u001b[38;5;124mtriplets_dessert: \u001b[39m\u001b[38;5;132;01m{\u001b[39;00mtriplets_dessert\u001b[38;5;132;01m}\u001b[39;00m\u001b[38;5;124m\"\u001b[39m)\n\u001b[1;32m     13\u001b[0m \u001b[38;5;28mprint\u001b[39m(\u001b[38;5;124mf\u001b[39m\u001b[38;5;124m\"\u001b[39m\u001b[38;5;124mhosts_dessert: \u001b[39m\u001b[38;5;132;01m{\u001b[39;00mhost_teams[\u001b[38;5;241m2\u001b[39m]\u001b[38;5;132;01m}\u001b[39;00m\u001b[38;5;124m\"\u001b[39m)\n",
      "Cell \u001b[0;32mIn[37], line 33\u001b[0m, in \u001b[0;36mcreate_random_distinct_triplets_with_host\u001b[0;34m(n_teams, host_teams_for_course, not_allowed_match_for_teams)\u001b[0m\n\u001b[1;32m     31\u001b[0m         \u001b[38;5;28mprint\u001b[39m(\u001b[38;5;124mf\u001b[39m\u001b[38;5;124m\"\u001b[39m\u001b[38;5;124mguest_teams_pool: \u001b[39m\u001b[38;5;132;01m{\u001b[39;00mguest_teams_pool\u001b[38;5;132;01m}\u001b[39;00m\u001b[38;5;124m\"\u001b[39m)\n\u001b[1;32m     32\u001b[0m         \u001b[38;5;28mprint\u001b[39m(\u001b[38;5;124mf\u001b[39m\u001b[38;5;124m\"\u001b[39m\u001b[38;5;124mtriplets: \u001b[39m\u001b[38;5;132;01m{\u001b[39;00mtriplets\u001b[38;5;132;01m}\u001b[39;00m\u001b[38;5;124m\"\u001b[39m)\n\u001b[0;32m---> 33\u001b[0m         \u001b[38;5;28;01mraise\u001b[39;00m \u001b[38;5;167;01mValueError\u001b[39;00m(\u001b[38;5;124mf\u001b[39m\u001b[38;5;124m'\u001b[39m\u001b[38;5;124mFound no combination after \u001b[39m\u001b[38;5;132;01m{\u001b[39;00mi\u001b[38;5;132;01m}\u001b[39;00m\u001b[38;5;124m iterations\u001b[39m\u001b[38;5;124m'\u001b[39m)\n\u001b[1;32m     34\u001b[0m     \u001b[38;5;28;01mcontinue\u001b[39;00m\n\u001b[1;32m     35\u001b[0m \u001b[38;5;28mprint\u001b[39m(\u001b[38;5;124mf\u001b[39m\u001b[38;5;124m\"\u001b[39m\u001b[38;5;124mguest_team: \u001b[39m\u001b[38;5;132;01m{\u001b[39;00mguest_team\u001b[38;5;132;01m}\u001b[39;00m\u001b[38;5;124m\"\u001b[39m)\n",
      "\u001b[0;31mValueError\u001b[0m: Found no combination after 1 iterations"
     ]
    }
   ],
   "source": [
    "\n",
    "triplets_starter, not_allowed_match_for_teams = create_random_distinct_triplets_with_host(n_teams, host_teams[0])\n",
    "print(f\"triplets_starters: {triplets_starter}\")\n",
    "print(f\"hosts_starter: {host_teams[0]}\")\n",
    "print(f\"not_allowed_match_for_teams: {not_allowed_match_for_teams}\")\n",
    "\n",
    "triplets_main, not_allowed_match_for_teams = create_random_distinct_triplets_with_host(n_teams, host_teams[1], not_allowed_match_for_teams)\n",
    "print(f\"triplets_main: {triplets_main}\")\n",
    "print(f\"hosts_main: {host_teams[1]}\")\n",
    "print(f\"not_allowed_match_for_teams: {not_allowed_match_for_teams}\")\n",
    "\n",
    "triplets_dessert, not_allowed_match_for_teams = create_random_distinct_triplets_with_host(n_teams, host_teams[2], not_allowed_match_for_teams)\n",
    "print(f\"triplets_dessert: {triplets_dessert}\")\n",
    "print(f\"hosts_dessert: {host_teams[2]}\")\n",
    "print(f\"not_allowed_match_for_teams: {not_allowed_match_for_teams}\")\n"
   ]
  },
  {
   "cell_type": "code",
   "execution_count": 9,
   "metadata": {},
   "outputs": [
    {
     "data": {
      "text/plain": [
       "3"
      ]
     },
     "execution_count": 9,
     "metadata": {},
     "output_type": "execute_result"
    }
   ],
   "source": [
    "n_teams // 3"
   ]
  },
  {
   "cell_type": "markdown",
   "metadata": {},
   "source": [
    "It is possible, that the three teams in a triplet host the same course. \n",
    "\n",
    "Example for `n_teams=9`:\n",
    "```\n",
    "triplets_starters: [{1, 3, 5}, {0, 4, 7}, {8, 2, 6}]\n",
    "hosts_starter: [3, 7, 6]\n",
    "triplets_main: [{4, 5, 6}, {2, 3, 7}, {0, 8, 1}]\n",
    "hosts_main: [4, 2, 0]\n",
    "triplets_dessert: [{8, 3, 4}, {0, 2, 5}, {1, 6, 7}]\n",
    "hosts_dessert: [8, 5, 1]\n",
    "```\n",
    "In this example e.g. in the first starter triplet `{1, 3, 5}` teams `1` and `5` host the dessert.\n",
    "\n",
    "On the other hand, after the following pairings for the first two courses\n",
    "\n",
    "```\n",
    "triplets_starters: [{0, 1, 5}, {8, 4, 7}, {2, 3, 6}]\n",
    "hosts_starter: [5, 7, 2]\n",
    "triplets_main: [{0, 2, 7}, {8, 1, 6}, {3, 4, 5}]\n",
    "hosts_main: [0, 8, 3]\n",
    "```\n",
    "\n",
    "and the first triplet `{5, 6, 7}` (host team 6) for the dessert, there is not allowed pairing for the dessert host 4 left. 4 has been paired with `{8, 3, 5, 7}` in the previous courses. 1 and 6 have to host the dessert for another triplet. The only left teams 2 and 0 have already met at the main dish. "
   ]
  }
 ],
 "metadata": {
  "kernelspec": {
   "display_name": "Python [conda env:walking_dinner]",
   "language": "python",
   "name": "conda-env-walking_dinner-py"
  },
  "language_info": {
   "codemirror_mode": {
    "name": "ipython",
    "version": 3
   },
   "file_extension": ".py",
   "mimetype": "text/x-python",
   "name": "python",
   "nbconvert_exporter": "python",
   "pygments_lexer": "ipython3",
   "version": "3.11.5"
  }
 },
 "nbformat": 4,
 "nbformat_minor": 2
}
